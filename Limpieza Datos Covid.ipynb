{
 "cells": [
  {
   "cell_type": "code",
   "execution_count": 1,
   "metadata": {},
   "outputs": [],
   "source": [
    "#Importo Librerias\n",
    "import pandas as pd\n",
    "import glob\n",
    "import datetime\n",
    "import numpy as np"
   ]
  },
  {
   "cell_type": "code",
   "execution_count": 2,
   "metadata": {},
   "outputs": [
    {
     "data": {
      "text/plain": [
       "['C:\\\\Users\\\\scamacho\\\\Desktop\\\\COVID-19\\\\Historico de Casos Python\\\\puntoycoma\\\\Casos1 - 20-marzo.csv',\n",
       " 'C:\\\\Users\\\\scamacho\\\\Desktop\\\\COVID-19\\\\Historico de Casos Python\\\\puntoycoma\\\\Casos1 - 23-marzo.csv',\n",
       " 'C:\\\\Users\\\\scamacho\\\\Desktop\\\\COVID-19\\\\Historico de Casos Python\\\\puntoycoma\\\\Casos1 - 25-abril.csv',\n",
       " 'C:\\\\Users\\\\scamacho\\\\Desktop\\\\COVID-19\\\\Historico de Casos Python\\\\puntoycoma\\\\Casos1 - 5-abril.csv',\n",
       " 'C:\\\\Users\\\\scamacho\\\\Desktop\\\\COVID-19\\\\Historico de Casos Python\\\\puntoycoma\\\\Casos1 - 6-abril.csv']"
      ]
     },
     "execution_count": 2,
     "metadata": {},
     "output_type": "execute_result"
    }
   ],
   "source": [
    "#Cargo los archivos separados por ; en un df llamado df_semicolon\n",
    "path = r'C:\\Users\\scamacho\\Desktop\\COVID-19\\Historico de Casos Python\\puntoycoma' # use your path\n",
    "all_files_abril = glob.glob(path + \"/*.csv\")\n",
    "\n",
    "li = []\n",
    "n = 0\n",
    "\n",
    "for filename in all_files_abril:\n",
    "    df = pd.read_csv(filename, index_col=None,sep=\";\")\n",
    "    df['source'] = all_files_abril[n][-21:]\n",
    "    n = n+1\n",
    "    li.append(df)\n",
    "\n",
    "df_semicolon = pd.concat(li, axis=0, ignore_index=True)\n",
    "all_files_abril[:5]"
   ]
  },
  {
   "cell_type": "code",
   "execution_count": 3,
   "metadata": {},
   "outputs": [],
   "source": [
    "#Cargo los archivos separados por  en un df llamado df_colon\n",
    "path = r'C:\\Users\\scamacho\\Desktop\\COVID-19\\Historico de Casos Python\\Con_coma' # use your path\n",
    "all_files_abril2 = glob.glob(path + \"/*.csv\")\n",
    "\n",
    "li = []\n",
    "n = 0\n",
    "\n",
    "\n",
    "for filename in all_files_abril2:\n",
    "    df = pd.read_csv(filename, index_col=None,sep=\",\")\n",
    "    df['source'] = all_files_abril2[n][-21:]\n",
    "    n = n+1\n",
    "    li.append(df)\n",
    "\n",
    "df_colon = pd.concat(li, axis=0, ignore_index=True)\n",
    "       "
   ]
  },
  {
   "cell_type": "code",
   "execution_count": 4,
   "metadata": {},
   "outputs": [],
   "source": [
    "#Junto los dos df en uno\n",
    "data = pd.concat([df_semicolon,df_colon], axis=0, ignore_index=True)"
   ]
  },
  {
   "cell_type": "code",
   "execution_count": 5,
   "metadata": {},
   "outputs": [
    {
     "name": "stdout",
     "output_type": "stream",
     "text": [
      "<class 'pandas.core.frame.DataFrame'>\n",
      "RangeIndex: 153051 entries, 0 to 153050\n",
      "Data columns (total 24 columns):\n",
      " #   Column                    Non-Null Count   Dtype  \n",
      "---  ------                    --------------   -----  \n",
      " 0   ID de caso                153051 non-null  object \n",
      " 1   Fecha de diagnóstico      49297 non-null   object \n",
      " 2   Ciudad de ubicación       153051 non-null  object \n",
      " 3   Atención                  7359 non-null    object \n",
      " 4   Edad                      153050 non-null  object \n",
      " 5   Sexo                      153051 non-null  object \n",
      " 6   Tipo                      114859 non-null  object \n",
      " 7   País de procedencia       153040 non-null  object \n",
      " 8   source                    153051 non-null  object \n",
      " 9   Departamento              6215 non-null    object \n",
      " 10  Tipo*                     38192 non-null   object \n",
      " 11  atención                  114578 non-null  object \n",
      " 12  Codigo DIVIPOLA           107546 non-null  float64\n",
      " 13  Departamento o Distrito   117839 non-null  object \n",
      " 14  Estado                    107518 non-null  object \n",
      " 15  Fecha de muerte           100460 non-null  object \n",
      " 16  Fecha de notificación     103754 non-null  object \n",
      " 17  Fecha diagnostico         107546 non-null  object \n",
      " 18  Fecha recuperado          104971 non-null  object \n",
      " 19  fecha reporte web         95628 non-null   object \n",
      " 20  FIS                       111146 non-null  object \n",
      " 21  Departamento o Distrito   28317 non-null   object \n",
      " 22  Atención**                31086 non-null   object \n",
      " 23  Fecha reporte web         7769 non-null    object \n",
      "dtypes: float64(1), object(23)\n",
      "memory usage: 28.0+ MB\n"
     ]
    }
   ],
   "source": [
    "data.info()"
   ]
  },
  {
   "cell_type": "code",
   "execution_count": 6,
   "metadata": {},
   "outputs": [],
   "source": [
    "#Uno todas las columnas de atención\n",
    "atencion = data.loc[:, ['Atención', 'atención', 'Atención**','source']]\n",
    "atencion['new'] = atencion['Atención'].fillna('') + atencion['atención'].fillna('') + atencion['Atención**'].fillna('')\n",
    "#atencion['new'].value_counts()"
   ]
  },
  {
   "cell_type": "code",
   "execution_count": 7,
   "metadata": {},
   "outputs": [
    {
     "data": {
      "text/plain": [
       "Casa            104549\n",
       "Recuperado       27872\n",
       "Hospital         10524\n",
       "Fallecido         6384\n",
       "Hospital UCI      3654\n",
       "Descartado          40\n",
       "No informa          28\n",
       "Name: new, dtype: int64"
      ]
     },
     "execution_count": 7,
     "metadata": {},
     "output_type": "execute_result"
    }
   ],
   "source": [
    "#Unifico Valores\n",
    "atencion['new'] = atencion['new'].replace({\"recuperado\": \"Recuperado\", \"Recuperado (Hospital)\": \"Recuperado\", \"hospital\": \"Hospital\", \"fallecido\" :\"Fallecido\", \"casa\":\"Casa\", \"En casa\":\"Casa\", \"En Casa\":\"Casa\", \"CASA\":\"Casa\", \"\":\"No informa\"})\n",
    "atencion['new'] = atencion['new'].replace({\"-   -\": \"Descartado\"})\n",
    "atencion['new'].value_counts()"
   ]
  },
  {
   "cell_type": "code",
   "execution_count": 8,
   "metadata": {},
   "outputs": [
    {
     "name": "stdout",
     "output_type": "stream",
     "text": [
      "<class 'pandas.core.frame.DataFrame'>\n",
      "RangeIndex: 153051 entries, 0 to 153050\n",
      "Data columns (total 22 columns):\n",
      " #   Column                    Non-Null Count   Dtype  \n",
      "---  ------                    --------------   -----  \n",
      " 0   ID de caso                153051 non-null  object \n",
      " 1   Fecha de diagnóstico      49297 non-null   object \n",
      " 2   Ciudad de ubicación       153051 non-null  object \n",
      " 3   Edad                      153050 non-null  object \n",
      " 4   Sexo                      153051 non-null  object \n",
      " 5   Tipo                      114859 non-null  object \n",
      " 6   País de procedencia       153040 non-null  object \n",
      " 7   source                    153051 non-null  object \n",
      " 8   Departamento              6215 non-null    object \n",
      " 9   Tipo*                     38192 non-null   object \n",
      " 10  Codigo DIVIPOLA           107546 non-null  float64\n",
      " 11  Departamento o Distrito   117839 non-null  object \n",
      " 12  Estado                    107518 non-null  object \n",
      " 13  Fecha de muerte           100460 non-null  object \n",
      " 14  Fecha de notificación     103754 non-null  object \n",
      " 15  Fecha diagnostico         107546 non-null  object \n",
      " 16  Fecha recuperado          104971 non-null  object \n",
      " 17  fecha reporte web         95628 non-null   object \n",
      " 18  FIS                       111146 non-null  object \n",
      " 19  Departamento o Distrito   28317 non-null   object \n",
      " 20  Fecha reporte web         7769 non-null    object \n",
      " 21  Lugar_Atencion            153051 non-null  object \n",
      "dtypes: float64(1), object(21)\n",
      "memory usage: 25.7+ MB\n"
     ]
    }
   ],
   "source": [
    "#Agrego la columna limpia a los datos y borro las columnas \n",
    "data['Lugar_Atencion'] = atencion['new']\n",
    "data = data.drop(['Atención', 'atención', 'Atención**'], 1)\n",
    "data.info()"
   ]
  },
  {
   "cell_type": "code",
   "execution_count": 9,
   "metadata": {},
   "outputs": [
    {
     "data": {
      "text/plain": [
       "Bogotá D.C.         53870\n",
       "Valle del Cauca     19554\n",
       "Antioquia           11000\n",
       "BOGOTÁ D.C.          6418\n",
       "Meta                 6048\n",
       "                    ...  \n",
       "San Andrés Islas        8\n",
       "SUCRE                   5\n",
       "LA GUAJIRA              5\n",
       "AMAZONAS                1\n",
       "Cundinamara             1\n",
       "Name: new, Length: 73, dtype: int64"
      ]
     },
     "execution_count": 9,
     "metadata": {},
     "output_type": "execute_result"
    }
   ],
   "source": [
    "#Junto las columnas de departamento\n",
    "depto = data.loc[:, ['Departamento', 'Departamento o Distrito ', 'Departamento o Distrito','source']]\n",
    "depto['new'] = depto['Departamento'].fillna('') + depto['Departamento o Distrito '].fillna('') + depto['Departamento o Distrito'].fillna('')\n",
    "depto['new'].value_counts()"
   ]
  },
  {
   "cell_type": "markdown",
   "metadata": {},
   "source": [
    "##### PENDIENTE"
   ]
  },
  {
   "cell_type": "code",
   "execution_count": 10,
   "metadata": {},
   "outputs": [
    {
     "data": {
      "text/plain": [
       "Casos1 - 22-marzo.csv    231\n",
       "Casos1 - 21-marzo.csv    196\n",
       "Casos1 - 20-marzo.csv    145\n",
       "Casos1 - 19-marzo.csv    108\n",
       "Name: source, dtype: int64"
      ]
     },
     "execution_count": 10,
     "metadata": {},
     "output_type": "execute_result"
    }
   ],
   "source": [
    "#Archivos con casos sin departamento\n",
    "ensayo = depto[depto['new']=='']\n",
    "ensayo['source'].value_counts()"
   ]
  },
  {
   "cell_type": "code",
   "execution_count": 11,
   "metadata": {},
   "outputs": [],
   "source": [
    "depto['new'] = depto['new'].str.upper()\n",
    "depto['new'] = depto['new'].replace({\"CARTAGENA\": \"BOLÍVAR\", \"SANTA MARTA\": \"MAGDALENA\", \"BARRANQUILLA\": \"ATLÁNTICO\", \"SAN ANDRÉS\" :\"ARCHIPIÉLAGO DE SAN ANDRÉS, PROVIDENCIA Y SANTA CATALINA\", \"ARCHIPIÉLAGO DE SAN ANDRÉS\":\"ARCHIPIÉLAGO DE SAN ANDRÉS, PROVIDENCIA Y SANTA CATALINA\", \"SANTA MARTA D.T. Y C.\":\"MAGDALENA\", \"CARTAGENA D.T. Y C.\":\"BOLÍVAR\", \"CARTAGENA D.T. Y C\":\"BOLÍVAR\", \"BOGOTÁ, D.C.\":\"BOGOTÁ D.C\"})\n",
    "depto['new'] = depto['new'].replace({\"BARRANQUILLA D.E.\": \"ATLÁNTICO\", \"VALLE\": \"VALLE DEL CAUCA\", \"BUENAVENTURA D.E.\": \"VALLE DEL CAUCA\",\"ARCHIPIÉLAGO DE SAN ANDRÉS PROVIDENCIA Y SANTA CATALINA\":\"ARCHIPIÉLAGO DE SAN ANDRÉS, PROVIDENCIA Y SANTA CATALINA\",\"BOGOTÁ\":\"BOGOTÁ D.C.\",\"SAN ANDRÉS ISLAS\":\"ARCHIPIÉLAGO DE SAN ANDRÉS, PROVIDENCIA Y SANTA CATALINA\", \"QUINDIO\":\"QUINDÍO\", \"CUNDINAMARA\":\"CUNDINAMARCA\",\"-   -\": \"Descartado\"})\n",
    "#depto['new'].value_counts()"
   ]
  },
  {
   "cell_type": "code",
   "execution_count": 12,
   "metadata": {},
   "outputs": [
    {
     "name": "stdout",
     "output_type": "stream",
     "text": [
      "<class 'pandas.core.frame.DataFrame'>\n",
      "RangeIndex: 153051 entries, 0 to 153050\n",
      "Data columns (total 20 columns):\n",
      " #   Column                 Non-Null Count   Dtype  \n",
      "---  ------                 --------------   -----  \n",
      " 0   ID de caso             153051 non-null  object \n",
      " 1   Fecha de diagnóstico   49297 non-null   object \n",
      " 2   Ciudad de ubicación    153051 non-null  object \n",
      " 3   Edad                   153050 non-null  object \n",
      " 4   Sexo                   153051 non-null  object \n",
      " 5   Tipo                   114859 non-null  object \n",
      " 6   País de procedencia    153040 non-null  object \n",
      " 7   source                 153051 non-null  object \n",
      " 8   Tipo*                  38192 non-null   object \n",
      " 9   Codigo DIVIPOLA        107546 non-null  float64\n",
      " 10  Estado                 107518 non-null  object \n",
      " 11  Fecha de muerte        100460 non-null  object \n",
      " 12  Fecha de notificación  103754 non-null  object \n",
      " 13  Fecha diagnostico      107546 non-null  object \n",
      " 14  Fecha recuperado       104971 non-null  object \n",
      " 15  fecha reporte web      95628 non-null   object \n",
      " 16  FIS                    111146 non-null  object \n",
      " 17  Fecha reporte web      7769 non-null    object \n",
      " 18  Lugar_Atencion         153051 non-null  object \n",
      " 19  Depto                  153051 non-null  object \n",
      "dtypes: float64(1), object(19)\n",
      "memory usage: 23.4+ MB\n"
     ]
    }
   ],
   "source": [
    "#Agrego la columna limpia a los datos y borro las columnas \n",
    "data['Depto'] = depto['new']\n",
    "data = data.drop(['Departamento', 'Departamento o Distrito ', 'Departamento o Distrito'], 1)\n",
    "data.info()"
   ]
  },
  {
   "cell_type": "code",
   "execution_count": 13,
   "metadata": {},
   "outputs": [],
   "source": [
    "#Junto las columnas de tipo\n",
    "tipo = data.loc[:, ['Tipo', 'Tipo*','source']]\n",
    "tipo['new'] = tipo[\"Tipo\"].combine_first(tipo[\"Tipo*\"])\n",
    "#tipo['new'].value_counts()"
   ]
  },
  {
   "cell_type": "code",
   "execution_count": 14,
   "metadata": {},
   "outputs": [
    {
     "data": {
      "text/plain": [
       "En Estudio     72537\n",
       "Relacionado    51002\n",
       "Importado      29463\n",
       "Descartado        40\n",
       "En estudio         9\n",
       "Name: new, dtype: int64"
      ]
     },
     "execution_count": 14,
     "metadata": {},
     "output_type": "execute_result"
    }
   ],
   "source": [
    "tipo['new'] = tipo['new'].replace({\"En estudio\": \"En Estudio\", \"en estudio\": \"En Estudio\", \"en Estudio\": \"En Estudio\", \"relacionado\" :\"Relacionado\", \"importado\":\"Importado\", \"-   -\": \"Descartado\", \"S.D.\":\"En estudio\"})\n",
    "tipo['new'].value_counts()"
   ]
  },
  {
   "cell_type": "code",
   "execution_count": 15,
   "metadata": {},
   "outputs": [
    {
     "name": "stdout",
     "output_type": "stream",
     "text": [
      "<class 'pandas.core.frame.DataFrame'>\n",
      "RangeIndex: 153051 entries, 0 to 153050\n",
      "Data columns (total 19 columns):\n",
      " #   Column                 Non-Null Count   Dtype  \n",
      "---  ------                 --------------   -----  \n",
      " 0   ID de caso             153051 non-null  object \n",
      " 1   Fecha de diagnóstico   49297 non-null   object \n",
      " 2   Ciudad de ubicación    153051 non-null  object \n",
      " 3   Edad                   153050 non-null  object \n",
      " 4   Sexo                   153051 non-null  object \n",
      " 5   País de procedencia    153040 non-null  object \n",
      " 6   source                 153051 non-null  object \n",
      " 7   Codigo DIVIPOLA        107546 non-null  float64\n",
      " 8   Estado                 107518 non-null  object \n",
      " 9   Fecha de muerte        100460 non-null  object \n",
      " 10  Fecha de notificación  103754 non-null  object \n",
      " 11  Fecha diagnostico      107546 non-null  object \n",
      " 12  Fecha recuperado       104971 non-null  object \n",
      " 13  fecha reporte web      95628 non-null   object \n",
      " 14  FIS                    111146 non-null  object \n",
      " 15  Fecha reporte web      7769 non-null    object \n",
      " 16  Lugar_Atencion         153051 non-null  object \n",
      " 17  Depto                  153051 non-null  object \n",
      " 18  Tipo_Arreglado         153051 non-null  object \n",
      "dtypes: float64(1), object(18)\n",
      "memory usage: 22.2+ MB\n"
     ]
    }
   ],
   "source": [
    "#Agrego la columna limpia a los datos y borro las columnas \n",
    "data['Tipo_Arreglado'] = tipo['new']\n",
    "data = data.drop(['Tipo', 'Tipo*'], 1)\n",
    "data.info()"
   ]
  },
  {
   "cell_type": "code",
   "execution_count": 16,
   "metadata": {},
   "outputs": [
    {
     "data": {
      "text/plain": [
       "Leve            92809\n",
       "Moderado         6828\n",
       "Fallecido        4868\n",
       "Grave            2046\n",
       "Asintomático      927\n",
       "Descartado         40\n",
       "Name: Estado, dtype: int64"
      ]
     },
     "execution_count": 16,
     "metadata": {},
     "output_type": "execute_result"
    }
   ],
   "source": [
    "#Arreglo la columna Estado\n",
    "data['Estado'] = data['Estado'].replace({\"fallecido\": \"Fallecido\", \"Moderada\": \"Moderado\", \"leve\": \"Leve\", \"-   -\": \"Descartado\"})\n",
    "data['Estado'].value_counts()"
   ]
  },
  {
   "cell_type": "code",
   "execution_count": 17,
   "metadata": {},
   "outputs": [
    {
     "data": {
      "text/plain": [
       "M             80269\n",
       "F             72742\n",
       "Descartado       40\n",
       "Name: Sexo, dtype: int64"
      ]
     },
     "execution_count": 17,
     "metadata": {},
     "output_type": "execute_result"
    }
   ],
   "source": [
    "#Arreglo la columna Sexo\n",
    "data['Sexo'] = data['Sexo'].replace({\"Hombre\": \"M\", \"Mujer\": \"F\", \"m\": \"M\", \"f\" :\"F\", \"-   -\": \"Descartado\", \"0\" :\"F\"})\n",
    "data['Sexo'].value_counts()"
   ]
  },
  {
   "cell_type": "code",
   "execution_count": 18,
   "metadata": {},
   "outputs": [
    {
     "data": {
      "text/html": [
       "<div>\n",
       "<style scoped>\n",
       "    .dataframe tbody tr th:only-of-type {\n",
       "        vertical-align: middle;\n",
       "    }\n",
       "\n",
       "    .dataframe tbody tr th {\n",
       "        vertical-align: top;\n",
       "    }\n",
       "\n",
       "    .dataframe thead th {\n",
       "        text-align: right;\n",
       "    }\n",
       "</style>\n",
       "<table border=\"1\" class=\"dataframe\">\n",
       "  <thead>\n",
       "    <tr style=\"text-align: right;\">\n",
       "      <th></th>\n",
       "      <th>Fecha de diagnóstico</th>\n",
       "      <th>Fecha diagnostico</th>\n",
       "      <th>source</th>\n",
       "      <th>new</th>\n",
       "    </tr>\n",
       "  </thead>\n",
       "  <tbody>\n",
       "    <tr>\n",
       "      <th>0</th>\n",
       "      <td>3/06/2020</td>\n",
       "      <td>NaN</td>\n",
       "      <td>Casos1 - 20-marzo.csv</td>\n",
       "      <td>3/06/2020</td>\n",
       "    </tr>\n",
       "    <tr>\n",
       "      <th>1</th>\n",
       "      <td>3/09/2020</td>\n",
       "      <td>NaN</td>\n",
       "      <td>Casos1 - 20-marzo.csv</td>\n",
       "      <td>3/09/2020</td>\n",
       "    </tr>\n",
       "    <tr>\n",
       "      <th>2</th>\n",
       "      <td>3/09/2020</td>\n",
       "      <td>NaN</td>\n",
       "      <td>Casos1 - 20-marzo.csv</td>\n",
       "      <td>3/09/2020</td>\n",
       "    </tr>\n",
       "  </tbody>\n",
       "</table>\n",
       "</div>"
      ],
      "text/plain": [
       "  Fecha de diagnóstico Fecha diagnostico                 source        new\n",
       "0            3/06/2020               NaN  Casos1 - 20-marzo.csv  3/06/2020\n",
       "1            3/09/2020               NaN  Casos1 - 20-marzo.csv  3/09/2020\n",
       "2            3/09/2020               NaN  Casos1 - 20-marzo.csv  3/09/2020"
      ]
     },
     "execution_count": 18,
     "metadata": {},
     "output_type": "execute_result"
    }
   ],
   "source": [
    "#Junto las columnas de Fecha de diagnóstico\n",
    "FD = data.loc[:, ['Fecha de diagnóstico', 'Fecha diagnostico','source']]\n",
    "FD['new'] = FD[\"Fecha de diagnóstico\"].combine_first(FD[\"Fecha diagnostico\"])\n",
    "#FD['new'].value_counts()\n",
    "FD.head(3)"
   ]
  },
  {
   "cell_type": "code",
   "execution_count": 19,
   "metadata": {},
   "outputs": [
    {
     "name": "stdout",
     "output_type": "stream",
     "text": [
      "<class 'pandas.core.frame.DataFrame'>\n",
      "RangeIndex: 153051 entries, 0 to 153050\n",
      "Data columns (total 18 columns):\n",
      " #   Column                 Non-Null Count   Dtype  \n",
      "---  ------                 --------------   -----  \n",
      " 0   ID de caso             153051 non-null  object \n",
      " 1   Ciudad de ubicación    153051 non-null  object \n",
      " 2   Edad                   153050 non-null  object \n",
      " 3   Sexo                   153051 non-null  object \n",
      " 4   País de procedencia    153040 non-null  object \n",
      " 5   source                 153051 non-null  object \n",
      " 6   Codigo DIVIPOLA        107546 non-null  float64\n",
      " 7   Estado                 107518 non-null  object \n",
      " 8   Fecha de muerte        100460 non-null  object \n",
      " 9   Fecha de notificación  103754 non-null  object \n",
      " 10  Fecha recuperado       104971 non-null  object \n",
      " 11  fecha reporte web      95628 non-null   object \n",
      " 12  FIS                    111146 non-null  object \n",
      " 13  Fecha reporte web      7769 non-null    object \n",
      " 14  Lugar_Atencion         153051 non-null  object \n",
      " 15  Depto                  153051 non-null  object \n",
      " 16  Tipo_Arreglado         153051 non-null  object \n",
      " 17  Fecha Diagnostico      153051 non-null  object \n",
      "dtypes: float64(1), object(17)\n",
      "memory usage: 21.0+ MB\n"
     ]
    }
   ],
   "source": [
    "#Agrego la columna y borro las columnas \n",
    "data['Fecha Diagnostico'] = FD['new']\n",
    "data = data.drop(['Fecha de diagnóstico', 'Fecha diagnostico'], 1)\n",
    "data.info()"
   ]
  },
  {
   "cell_type": "code",
   "execution_count": 20,
   "metadata": {},
   "outputs": [],
   "source": [
    "#Junto las columnas de Fecha de Reporte Web\n",
    "FRW = data.loc[:, ['fecha reporte web', 'Fecha reporte web','source']]\n",
    "FRW['new'] = FRW[\"fecha reporte web\"].combine_first(FRW[\"Fecha reporte web\"])"
   ]
  },
  {
   "cell_type": "code",
   "execution_count": 21,
   "metadata": {},
   "outputs": [
    {
     "name": "stdout",
     "output_type": "stream",
     "text": [
      "<class 'pandas.core.frame.DataFrame'>\n",
      "RangeIndex: 153051 entries, 0 to 153050\n",
      "Data columns (total 17 columns):\n",
      " #   Column                 Non-Null Count   Dtype  \n",
      "---  ------                 --------------   -----  \n",
      " 0   ID de caso             153051 non-null  object \n",
      " 1   Ciudad de ubicación    153051 non-null  object \n",
      " 2   Edad                   153050 non-null  object \n",
      " 3   Sexo                   153051 non-null  object \n",
      " 4   País de procedencia    153040 non-null  object \n",
      " 5   source                 153051 non-null  object \n",
      " 6   Codigo DIVIPOLA        107546 non-null  float64\n",
      " 7   Estado                 107518 non-null  object \n",
      " 8   Fecha de muerte        100460 non-null  object \n",
      " 9   Fecha de notificación  103754 non-null  object \n",
      " 10  Fecha recuperado       104971 non-null  object \n",
      " 11  FIS                    111146 non-null  object \n",
      " 12  Lugar_Atencion         153051 non-null  object \n",
      " 13  Depto                  153051 non-null  object \n",
      " 14  Tipo_Arreglado         153051 non-null  object \n",
      " 15  Fecha Diagnostico      153051 non-null  object \n",
      " 16  Fecha_Reporte_Web      103397 non-null  object \n",
      "dtypes: float64(1), object(16)\n",
      "memory usage: 19.9+ MB\n"
     ]
    }
   ],
   "source": [
    "#Agrego la columna y borro las columnas \n",
    "data['Fecha_Reporte_Web'] = FRW['new']\n",
    "data = data.drop(['fecha reporte web', 'Fecha reporte web'], 1)\n",
    "data.info()"
   ]
  },
  {
   "cell_type": "code",
   "execution_count": 22,
   "metadata": {},
   "outputs": [],
   "source": [
    "#Organizo la fecha de los archivos\n",
    "FA = data['source'].str.split(\"-\", n = 1, expand = True) \n",
    "Dia = FA.iloc[:, 1].str.split(\"-\", n = 1, expand = True) \n",
    "Mes = Dia.iloc[:, 1].str.split(\".\", n = 1, expand = True) \n",
    "\n",
    "data['dia_archivo'] = Dia.iloc[:, 0]\n",
    "data['mes_archivo'] = Mes.iloc[:, 0]\n",
    "\n",
    "data['mes_archivo'] = data['mes_archivo'].replace({\"enero\":\"01\",\"febrero\":\"02\",\"marzo\":\"03\",\"abril\":\"04\",\"mayo\":\"05\",\"junio\":\"06\",\"julio\":\"07\"})\n",
    "data['año'] = '2020'"
   ]
  },
  {
   "cell_type": "code",
   "execution_count": 23,
   "metadata": {},
   "outputs": [
    {
     "name": "stdout",
     "output_type": "stream",
     "text": [
      "<class 'pandas.core.frame.DataFrame'>\n",
      "RangeIndex: 153051 entries, 0 to 153050\n",
      "Data columns (total 20 columns):\n",
      " #   Column                 Non-Null Count   Dtype  \n",
      "---  ------                 --------------   -----  \n",
      " 0   ID de caso             153051 non-null  object \n",
      " 1   Ciudad de ubicación    153051 non-null  object \n",
      " 2   Edad                   153050 non-null  object \n",
      " 3   Sexo                   153051 non-null  object \n",
      " 4   País de procedencia    153040 non-null  object \n",
      " 5   source                 153051 non-null  object \n",
      " 6   Codigo DIVIPOLA        107546 non-null  float64\n",
      " 7   Estado                 107518 non-null  object \n",
      " 8   Fecha de muerte        100460 non-null  object \n",
      " 9   Fecha de notificación  103754 non-null  object \n",
      " 10  Fecha recuperado       104971 non-null  object \n",
      " 11  FIS                    111146 non-null  object \n",
      " 12  Lugar_Atencion         153051 non-null  object \n",
      " 13  Depto                  153051 non-null  object \n",
      " 14  Tipo_Arreglado         153051 non-null  object \n",
      " 15  Fecha Diagnostico      153051 non-null  object \n",
      " 16  Fecha_Reporte_Web      103397 non-null  object \n",
      " 17  dia_archivo            153051 non-null  object \n",
      " 18  mes_archivo            153051 non-null  object \n",
      " 19  año                    153051 non-null  object \n",
      "dtypes: float64(1), object(19)\n",
      "memory usage: 23.4+ MB\n"
     ]
    }
   ],
   "source": [
    "data.info()"
   ]
  },
  {
   "cell_type": "code",
   "execution_count": 24,
   "metadata": {},
   "outputs": [],
   "source": [
    "#Creo la fecha del archivo\n",
    "miFecha =data.apply(lambda x: datetime.date(int(x['año']), int(x['mes_archivo']), int(x['dia_archivo'])),axis=1)\n",
    "data['Fecha_Archivo']= miFecha\n",
    "data = data.drop(['mes_archivo', 'dia_archivo', 'año', 'source'], 1)"
   ]
  },
  {
   "cell_type": "code",
   "execution_count": 25,
   "metadata": {},
   "outputs": [
    {
     "name": "stdout",
     "output_type": "stream",
     "text": [
      "<class 'pandas.core.frame.DataFrame'>\n",
      "RangeIndex: 153051 entries, 0 to 153050\n",
      "Data columns (total 17 columns):\n",
      " #   Column                 Non-Null Count   Dtype  \n",
      "---  ------                 --------------   -----  \n",
      " 0   ID de caso             153051 non-null  object \n",
      " 1   Ciudad de ubicación    153051 non-null  object \n",
      " 2   Edad                   153050 non-null  object \n",
      " 3   Sexo                   153051 non-null  object \n",
      " 4   País de procedencia    153040 non-null  object \n",
      " 5   Codigo DIVIPOLA        107546 non-null  float64\n",
      " 6   Estado                 107518 non-null  object \n",
      " 7   Fecha de muerte        100460 non-null  object \n",
      " 8   Fecha de notificación  103754 non-null  object \n",
      " 9   Fecha recuperado       104971 non-null  object \n",
      " 10  FIS                    111146 non-null  object \n",
      " 11  Lugar_Atencion         153051 non-null  object \n",
      " 12  Depto                  153051 non-null  object \n",
      " 13  Tipo_Arreglado         153051 non-null  object \n",
      " 14  Fecha Diagnostico      153051 non-null  object \n",
      " 15  Fecha_Reporte_Web      103397 non-null  object \n",
      " 16  Fecha_Archivo          153051 non-null  object \n",
      "dtypes: float64(1), object(16)\n",
      "memory usage: 19.9+ MB\n"
     ]
    }
   ],
   "source": [
    "data.info()"
   ]
  },
  {
   "cell_type": "code",
   "execution_count": 26,
   "metadata": {},
   "outputs": [
    {
     "data": {
      "text/plain": [
       "2020-05-06    8959\n",
       "2020-05-05    8613\n",
       "2020-05-04    7973\n",
       "2020-05-03    7708\n",
       "2020-05-02    7285\n",
       "2020-05-01    6507\n",
       "2020-04-30    6507\n",
       "2020-04-29    6211\n",
       "2020-04-28    5949\n",
       "2020-04-27    5597\n",
       "2020-04-26    5379\n",
       "2020-04-25    5142\n",
       "2020-04-24    4881\n",
       "2020-04-23    4561\n",
       "2020-04-22    4356\n",
       "2020-04-21    4149\n",
       "2020-04-20    3977\n",
       "2020-04-19    3792\n",
       "2020-04-18    3621\n",
       "2020-04-17    3439\n",
       "2020-04-16    3233\n",
       "2020-04-14    2979\n",
       "2020-04-15    2979\n",
       "2020-04-13    2852\n",
       "2020-04-12    2776\n",
       "2020-04-11    2709\n",
       "2020-04-10    2473\n",
       "2020-04-09    2223\n",
       "2020-04-08    2054\n",
       "2020-04-07    1780\n",
       "2020-04-06    1579\n",
       "2020-04-05    1485\n",
       "2020-04-03    1267\n",
       "2020-04-02    1161\n",
       "2020-04-01    1065\n",
       "2020-03-31     906\n",
       "2020-03-30     798\n",
       "2020-03-29     702\n",
       "2020-03-28     608\n",
       "2020-03-26     491\n",
       "2020-03-27     491\n",
       "2020-03-25     470\n",
       "2020-03-24     378\n",
       "2020-03-23     306\n",
       "2020-03-22     231\n",
       "2020-03-21     196\n",
       "2020-03-20     145\n",
       "2020-03-19     108\n",
       "Name: Fecha_Archivo, dtype: int64"
      ]
     },
     "execution_count": 26,
     "metadata": {},
     "output_type": "execute_result"
    }
   ],
   "source": [
    "#Casos Totales por día\n",
    "data['Fecha_Archivo'].value_counts()"
   ]
  },
  {
   "cell_type": "code",
   "execution_count": 27,
   "metadata": {},
   "outputs": [
    {
     "data": {
      "text/plain": [
       "                142543\n",
       "Asintomático     10508\n",
       "Name: Asintomático, dtype: int64"
      ]
     },
     "execution_count": 27,
     "metadata": {},
     "output_type": "execute_result"
    }
   ],
   "source": [
    "data['Asintomático'] = data['FIS'] == 'Asintomático'\n",
    "data['Asintomático'] = data['Asintomático'].replace({True:'Asintomático',False:''})\n",
    "data['Asintomático'].value_counts()"
   ]
  },
  {
   "cell_type": "code",
   "execution_count": 28,
   "metadata": {},
   "outputs": [
    {
     "data": {
      "text/plain": [
       "                           10508\n",
       "2020-03-20T00:00:00.000     3497\n",
       "2020-04-01T00:00:00.000     3133\n",
       "2020-03-19T00:00:00.000     2919\n",
       "2020-03-21T00:00:00.000     2777\n",
       "                           ...  \n",
       "2020-05-03T00:00:00.000       34\n",
       "2020-03-03T00:00:00.000       23\n",
       "2020-02-28T00:00:00.000       19\n",
       "2020-05-04T00:00:00.000        5\n",
       "2020-05-05T00:00:00.000        1\n",
       "Name: FIS, Length: 72, dtype: int64"
      ]
     },
     "execution_count": 28,
     "metadata": {},
     "output_type": "execute_result"
    }
   ],
   "source": [
    "data['FIS'] = data['FIS'].replace({'Asintomático':\"\"})\n",
    "data['FIS'].value_counts()"
   ]
  },
  {
   "cell_type": "code",
   "execution_count": 29,
   "metadata": {},
   "outputs": [],
   "source": [
    "## Funcion para convertir la edad a rango\n",
    "def numtorange(edad):\n",
    "    import numpy as np\n",
    "    try:\n",
    "        edad=int(edad)\n",
    "    except:\n",
    "        edad=edad\n",
    "        \n",
    "    if isinstance(edad, str) :\n",
    "        if 'meses' in edad:\n",
    "            rango='0 a 9'\n",
    "        elif 'mes' in edad:\n",
    "            rango='0 a 9'\n",
    "        else:\n",
    "            rango=edad\n",
    "    else:\n",
    "        if np.isnan(edad):\n",
    "            rango=edad\n",
    "        else:\n",
    "            ini=round(edad/10)*10\n",
    "            fin=ini+9\n",
    "            rango=str(ini)+' a '+str(fin)\n",
    "    return rango"
   ]
  },
  {
   "cell_type": "code",
   "execution_count": 30,
   "metadata": {},
   "outputs": [],
   "source": [
    "## Convirtiendo a rango de edad\n",
    "data['EdadRango']=data['Edad'].apply(lambda x: numtorange(x))"
   ]
  },
  {
   "cell_type": "code",
   "execution_count": 31,
   "metadata": {},
   "outputs": [
    {
     "data": {
      "text/html": [
       "<div>\n",
       "<style scoped>\n",
       "    .dataframe tbody tr th:only-of-type {\n",
       "        vertical-align: middle;\n",
       "    }\n",
       "\n",
       "    .dataframe tbody tr th {\n",
       "        vertical-align: top;\n",
       "    }\n",
       "\n",
       "    .dataframe thead th {\n",
       "        text-align: right;\n",
       "    }\n",
       "</style>\n",
       "<table border=\"1\" class=\"dataframe\">\n",
       "  <thead>\n",
       "    <tr style=\"text-align: right;\">\n",
       "      <th></th>\n",
       "      <th>ID de caso</th>\n",
       "      <th>Ciudad de ubicación</th>\n",
       "      <th>Edad</th>\n",
       "      <th>Sexo</th>\n",
       "      <th>País de procedencia</th>\n",
       "      <th>Codigo DIVIPOLA</th>\n",
       "      <th>Estado</th>\n",
       "      <th>Fecha de muerte</th>\n",
       "      <th>Fecha de notificación</th>\n",
       "      <th>Fecha recuperado</th>\n",
       "      <th>FIS</th>\n",
       "      <th>Lugar_Atencion</th>\n",
       "      <th>Depto</th>\n",
       "      <th>Tipo_Arreglado</th>\n",
       "      <th>Fecha Diagnostico</th>\n",
       "      <th>Fecha_Reporte_Web</th>\n",
       "      <th>Fecha_Archivo</th>\n",
       "      <th>Asintomático</th>\n",
       "      <th>EdadRango</th>\n",
       "    </tr>\n",
       "  </thead>\n",
       "  <tbody>\n",
       "    <tr>\n",
       "      <th>153046</th>\n",
       "      <td>2219</td>\n",
       "      <td>Cali</td>\n",
       "      <td>62</td>\n",
       "      <td>M</td>\n",
       "      <td>Colombia</td>\n",
       "      <td>NaN</td>\n",
       "      <td>NaN</td>\n",
       "      <td>NaN</td>\n",
       "      <td>NaN</td>\n",
       "      <td>NaN</td>\n",
       "      <td>NaN</td>\n",
       "      <td>Hospital</td>\n",
       "      <td>VALLE DEL CAUCA</td>\n",
       "      <td>En Estudio</td>\n",
       "      <td>09/04/2020</td>\n",
       "      <td>NaN</td>\n",
       "      <td>2020-04-09</td>\n",
       "      <td></td>\n",
       "      <td>60 a 69</td>\n",
       "    </tr>\n",
       "    <tr>\n",
       "      <th>153047</th>\n",
       "      <td>2220</td>\n",
       "      <td>Manizales</td>\n",
       "      <td>32</td>\n",
       "      <td>M</td>\n",
       "      <td>Colombia</td>\n",
       "      <td>NaN</td>\n",
       "      <td>NaN</td>\n",
       "      <td>NaN</td>\n",
       "      <td>NaN</td>\n",
       "      <td>NaN</td>\n",
       "      <td>NaN</td>\n",
       "      <td>Casa</td>\n",
       "      <td>VALLE DEL CAUCA</td>\n",
       "      <td>En Estudio</td>\n",
       "      <td>09/04/2020</td>\n",
       "      <td>NaN</td>\n",
       "      <td>2020-04-09</td>\n",
       "      <td></td>\n",
       "      <td>30 a 39</td>\n",
       "    </tr>\n",
       "    <tr>\n",
       "      <th>153048</th>\n",
       "      <td>2221</td>\n",
       "      <td>Yopal</td>\n",
       "      <td>43</td>\n",
       "      <td>F</td>\n",
       "      <td>Colombia</td>\n",
       "      <td>NaN</td>\n",
       "      <td>NaN</td>\n",
       "      <td>NaN</td>\n",
       "      <td>NaN</td>\n",
       "      <td>NaN</td>\n",
       "      <td>NaN</td>\n",
       "      <td>Casa</td>\n",
       "      <td>CASANARE</td>\n",
       "      <td>En Estudio</td>\n",
       "      <td>09/04/2020</td>\n",
       "      <td>NaN</td>\n",
       "      <td>2020-04-09</td>\n",
       "      <td></td>\n",
       "      <td>40 a 49</td>\n",
       "    </tr>\n",
       "    <tr>\n",
       "      <th>153049</th>\n",
       "      <td>2222</td>\n",
       "      <td>Espinal</td>\n",
       "      <td>44</td>\n",
       "      <td>M</td>\n",
       "      <td>Colombia</td>\n",
       "      <td>NaN</td>\n",
       "      <td>NaN</td>\n",
       "      <td>NaN</td>\n",
       "      <td>NaN</td>\n",
       "      <td>NaN</td>\n",
       "      <td>NaN</td>\n",
       "      <td>Casa</td>\n",
       "      <td>TOLIMA</td>\n",
       "      <td>En Estudio</td>\n",
       "      <td>09/04/2020</td>\n",
       "      <td>NaN</td>\n",
       "      <td>2020-04-09</td>\n",
       "      <td></td>\n",
       "      <td>40 a 49</td>\n",
       "    </tr>\n",
       "    <tr>\n",
       "      <th>153050</th>\n",
       "      <td>2223</td>\n",
       "      <td>Ipiales</td>\n",
       "      <td>42</td>\n",
       "      <td>M</td>\n",
       "      <td>Colombia</td>\n",
       "      <td>NaN</td>\n",
       "      <td>NaN</td>\n",
       "      <td>NaN</td>\n",
       "      <td>NaN</td>\n",
       "      <td>NaN</td>\n",
       "      <td>NaN</td>\n",
       "      <td>Hospital</td>\n",
       "      <td>NARIÑO</td>\n",
       "      <td>En Estudio</td>\n",
       "      <td>09/04/2020</td>\n",
       "      <td>NaN</td>\n",
       "      <td>2020-04-09</td>\n",
       "      <td></td>\n",
       "      <td>40 a 49</td>\n",
       "    </tr>\n",
       "  </tbody>\n",
       "</table>\n",
       "</div>"
      ],
      "text/plain": [
       "       ID de caso Ciudad de ubicación Edad Sexo País de procedencia  \\\n",
       "153046       2219                Cali   62    M            Colombia   \n",
       "153047       2220           Manizales   32    M            Colombia   \n",
       "153048       2221               Yopal   43    F            Colombia   \n",
       "153049       2222             Espinal   44    M            Colombia   \n",
       "153050       2223             Ipiales   42    M            Colombia   \n",
       "\n",
       "        Codigo DIVIPOLA Estado Fecha de muerte Fecha de notificación  \\\n",
       "153046              NaN    NaN             NaN                   NaN   \n",
       "153047              NaN    NaN             NaN                   NaN   \n",
       "153048              NaN    NaN             NaN                   NaN   \n",
       "153049              NaN    NaN             NaN                   NaN   \n",
       "153050              NaN    NaN             NaN                   NaN   \n",
       "\n",
       "       Fecha recuperado  FIS Lugar_Atencion            Depto Tipo_Arreglado  \\\n",
       "153046              NaN  NaN       Hospital  VALLE DEL CAUCA     En Estudio   \n",
       "153047              NaN  NaN           Casa  VALLE DEL CAUCA     En Estudio   \n",
       "153048              NaN  NaN           Casa         CASANARE     En Estudio   \n",
       "153049              NaN  NaN           Casa           TOLIMA     En Estudio   \n",
       "153050              NaN  NaN       Hospital           NARIÑO     En Estudio   \n",
       "\n",
       "       Fecha Diagnostico Fecha_Reporte_Web Fecha_Archivo Asintomático  \\\n",
       "153046        09/04/2020               NaN    2020-04-09                \n",
       "153047        09/04/2020               NaN    2020-04-09                \n",
       "153048        09/04/2020               NaN    2020-04-09                \n",
       "153049        09/04/2020               NaN    2020-04-09                \n",
       "153050        09/04/2020               NaN    2020-04-09                \n",
       "\n",
       "       EdadRango  \n",
       "153046   60 a 69  \n",
       "153047   30 a 39  \n",
       "153048   40 a 49  \n",
       "153049   40 a 49  \n",
       "153050   40 a 49  "
      ]
     },
     "execution_count": 31,
     "metadata": {},
     "output_type": "execute_result"
    }
   ],
   "source": [
    "data.tail()"
   ]
  },
  {
   "cell_type": "code",
   "execution_count": 32,
   "metadata": {},
   "outputs": [
    {
     "name": "stdout",
     "output_type": "stream",
     "text": [
      "<class 'pandas.core.frame.DataFrame'>\n",
      "RangeIndex: 153051 entries, 0 to 153050\n",
      "Data columns (total 19 columns):\n",
      " #   Column                 Non-Null Count   Dtype  \n",
      "---  ------                 --------------   -----  \n",
      " 0   ID de caso             153051 non-null  object \n",
      " 1   Ciudad de ubicación    153051 non-null  object \n",
      " 2   Edad                   153050 non-null  object \n",
      " 3   Sexo                   153051 non-null  object \n",
      " 4   País de procedencia    153040 non-null  object \n",
      " 5   Codigo DIVIPOLA        107546 non-null  float64\n",
      " 6   Estado                 107518 non-null  object \n",
      " 7   Fecha de muerte        100460 non-null  object \n",
      " 8   Fecha de notificación  103754 non-null  object \n",
      " 9   Fecha recuperado       104971 non-null  object \n",
      " 10  FIS                    111146 non-null  object \n",
      " 11  Lugar_Atencion         153051 non-null  object \n",
      " 12  Depto                  153051 non-null  object \n",
      " 13  Tipo_Arreglado         153051 non-null  object \n",
      " 14  Fecha Diagnostico      153051 non-null  object \n",
      " 15  Fecha_Reporte_Web      103397 non-null  object \n",
      " 16  Fecha_Archivo          153051 non-null  object \n",
      " 17  Asintomático           153051 non-null  object \n",
      " 18  EdadRango              153050 non-null  object \n",
      "dtypes: float64(1), object(18)\n",
      "memory usage: 22.2+ MB\n"
     ]
    }
   ],
   "source": [
    "data.info()"
   ]
  },
  {
   "cell_type": "code",
   "execution_count": 35,
   "metadata": {},
   "outputs": [
    {
     "data": {
      "text/plain": [
       "array(['3/06/2020', '3/09/2020', '3/11/2020', '3/12/2020', '13/03/2020',\n",
       "       '14/03/2020', '15/03/2020', '16/03/2020', '17/03/2020',\n",
       "       '18/03/2020', '19/03/2020', '20/03/2020', '3/13/20', '3/14/20',\n",
       "       '3/15/20', '3/16/20', '3/17/20', '3/18/20', '3/19/20', '3/20/20',\n",
       "       '3/21/20', '3/22/20', '22/03/2020', '3/23/20', '23/03/2020',\n",
       "       '6/03/2020', '9/03/2020', '11/03/2020', '12/03/2020', '21/03/2020',\n",
       "       '24/03/2020', '27/03/2020', '25/03/2020', '26/03/2020',\n",
       "       '28/03/2020', '29/03/2020', '30/03/2020', '31/03/2020',\n",
       "       '1/04/2020', '6/04/2020', '21/04/2020', '3/04/2020', '4/04/2020',\n",
       "       '2/04/2020', '8/04/2020', '7/04/2020', '23/04/2020', '9/04/2020',\n",
       "       '13/04/2020', '15/04/2020', '5/04/2020', '24/04/2020',\n",
       "       '11/04/2020', '18/04/2020', '17/04/2020', '25/04/2020',\n",
       "       '10/04/2020', '14/04/2020', '12/04/2020', '16/04/2020',\n",
       "       '19/04/2020', '20/04/2020', '22/04/2020', '6/03/20', '9/03/20',\n",
       "       '11/03/20', '12/03/20', '13/03/20', '14/03/20', '15/03/20',\n",
       "       '16/03/20', '17/03/20', '18/03/20', '19/03/20', '20/03/20',\n",
       "       '21/03/20', '22/03/20', '23/03/20', '24/03/20', '25/03/20',\n",
       "       '26/03/20', '27/03/20', '28/03/20', '29/03/20', '30/03/20',\n",
       "       '31/03/20', '1/04/20', '2/04/20', '3/04/20', '4/04/20', '5/04/20',\n",
       "       '6/04/20', '06/03/2020', '09/03/2020', '27/3/2020', '28/3/2020',\n",
       "       '29/3/2020', '30/3/2020', '31/3/2020', '01/04/2020',\n",
       "       '2020-03-06T00:00:00.000', '2020-03-09T00:00:00.000',\n",
       "       '2020-03-11T00:00:00.000', '2020-03-12T00:00:00.000',\n",
       "       '2020-03-13T00:00:00.000', '2020-03-14T00:00:00.000',\n",
       "       '2020-03-15T00:00:00.000', '2020-03-16T00:00:00.000',\n",
       "       '2020-03-17T00:00:00.000', '2020-03-18T00:00:00.000',\n",
       "       '2020-03-19T00:00:00.000', '2020-03-20T00:00:00.000',\n",
       "       '2020-03-21T00:00:00.000', '2020-03-22T00:00:00.000',\n",
       "       '2020-03-23T00:00:00.000', '2020-03-24T00:00:00.000',\n",
       "       '2020-03-27T00:00:00.000', '2020-03-25T00:00:00.000',\n",
       "       '2020-03-26T00:00:00.000', '2020-03-28T00:00:00.000',\n",
       "       '2020-03-29T00:00:00.000', '2020-03-30T00:00:00.000',\n",
       "       '2020-03-31T00:00:00.000', '2020-04-01T00:00:00.000',\n",
       "       '2020-04-02T00:00:00.000', '2020-04-03T00:00:00.000',\n",
       "       '2020-04-04T00:00:00.000', '2020-04-05T00:00:00.000',\n",
       "       '2020-04-06T00:00:00.000', '2020-04-07T00:00:00.000',\n",
       "       '2020-04-08T00:00:00.000', '2020-04-09T00:00:00.000',\n",
       "       '2020-04-10T00:00:00.000', '2020-04-11T00:00:00.000',\n",
       "       '2020-04-12T00:00:00.000', '2020-04-13T00:00:00.000',\n",
       "       '2020-04-14T00:00:00.000', '2020-04-19T00:00:00.000',\n",
       "       '2020-04-15T00:00:00.000', '2020-04-28T00:00:00.000',\n",
       "       '2020-04-16T00:00:00.000', '2020-04-17T00:00:00.000',\n",
       "       '2020-04-18T00:00:00.000', '2020-04-20T00:00:00.000',\n",
       "       '2020-04-22T00:00:00.000', '2020-04-21T00:00:00.000',\n",
       "       '2020-04-23T00:00:00.000', '2020-04-25T00:00:00.000',\n",
       "       '2020-04-24T00:00:00.000', '2020-04-26T00:00:00.000',\n",
       "       '2020-04-27T00:00:00.000', '2020-04-29T00:00:00.000',\n",
       "       '2020-04-30T00:00:00.000', '02/04/2020', '03/04/2020',\n",
       "       '04/04/2020', '05/04/2020', '06/04/2020', '07/04/2020',\n",
       "       '08/04/2020', '09/04/2020', 43896, 43899, 43901, 43902, 43903,\n",
       "       43904, 43905, 43906, 43907, 43908, 43909, 43910, 43911, 43912,\n",
       "       43913, 43914, 43915, 43916, 43917, 43918, 43919, 43920, 43921,\n",
       "       43922, 43923, 43924, 43925, 43926, 43927, 43928, 43929, 43930,\n",
       "       43931, 43932, 43933, 43934, 43935, '6/3/20', '9/3/20', '11/3/20',\n",
       "       '12/3/20', '13/3/2020', '14/3/2020', '15/3/2020', '16/3/2020',\n",
       "       '17/3/2020', '18/3/2020', '19/3/2020', '20/3/2020', '21/3/2020',\n",
       "       '22/3/2020', '23/3/2020', '24/3/2020', '25/3/2020', '26/3/2020',\n",
       "       '3/03/2020', '4/03/2020', '00/01/1900', '2020-03-03T00:00:00.000',\n",
       "       '2020-03-04T00:00:00.000', '2020-04-14T23:59:44.000',\n",
       "       '2020-04-16T23:59:44.000', '2020-04-15T23:59:44.000',\n",
       "       '1899-12-31T00:00:00.000', '3/6/2020', '3/9/2020',\n",
       "       '2020-05-01T00:00:00.000', '2020-05-02T00:00:00.000', '-   -',\n",
       "       '2020-05-03T00:00:00.000', '2020-05-04T00:00:00.000',\n",
       "       '2020-05-05T00:00:00.000', '2020-05-06T00:00:00.000'], dtype=object)"
      ]
     },
     "execution_count": 35,
     "metadata": {},
     "output_type": "execute_result"
    }
   ],
   "source": [
    "data['Fecha Diagnostico'].unique()"
   ]
  },
  {
   "cell_type": "code",
   "execution_count": 39,
   "metadata": {},
   "outputs": [
    {
     "data": {
      "text/html": [
       "<div>\n",
       "<style scoped>\n",
       "    .dataframe tbody tr th:only-of-type {\n",
       "        vertical-align: middle;\n",
       "    }\n",
       "\n",
       "    .dataframe tbody tr th {\n",
       "        vertical-align: top;\n",
       "    }\n",
       "\n",
       "    .dataframe thead th {\n",
       "        text-align: right;\n",
       "    }\n",
       "</style>\n",
       "<table border=\"1\" class=\"dataframe\">\n",
       "  <thead>\n",
       "    <tr style=\"text-align: right;\">\n",
       "      <th></th>\n",
       "      <th>ID de caso</th>\n",
       "      <th>Ciudad de ubicación</th>\n",
       "      <th>Edad</th>\n",
       "      <th>Sexo</th>\n",
       "      <th>País de procedencia</th>\n",
       "      <th>Codigo DIVIPOLA</th>\n",
       "      <th>Estado</th>\n",
       "      <th>Fecha de muerte</th>\n",
       "      <th>Fecha de notificación</th>\n",
       "      <th>Fecha recuperado</th>\n",
       "      <th>FIS</th>\n",
       "      <th>Lugar_Atencion</th>\n",
       "      <th>Depto</th>\n",
       "      <th>Tipo_Arreglado</th>\n",
       "      <th>Fecha Diagnostico</th>\n",
       "      <th>Fecha_Reporte_Web</th>\n",
       "      <th>Fecha_Archivo</th>\n",
       "      <th>Asintomático</th>\n",
       "      <th>EdadRango</th>\n",
       "    </tr>\n",
       "  </thead>\n",
       "  <tbody>\n",
       "  </tbody>\n",
       "</table>\n",
       "</div>"
      ],
      "text/plain": [
       "Empty DataFrame\n",
       "Columns: [ID de caso, Ciudad de ubicación, Edad, Sexo, País de procedencia, Codigo DIVIPOLA, Estado, Fecha de muerte, Fecha de notificación, Fecha recuperado, FIS, Lugar_Atencion, Depto, Tipo_Arreglado, Fecha Diagnostico, Fecha_Reporte_Web, Fecha_Archivo, Asintomático, EdadRango]\n",
       "Index: []"
      ]
     },
     "execution_count": 39,
     "metadata": {},
     "output_type": "execute_result"
    }
   ],
   "source": [
    "data[data['Fecha Diagnostico']=='43896']"
   ]
  },
  {
   "cell_type": "code",
   "execution_count": 33,
   "metadata": {},
   "outputs": [],
   "source": [
    "#data.to_csv(r'C:\\Users\\scamacho\\Desktop\\COVID-19\\Historico de Casos Python\\CSV_limpio\\Historico_Covid.csv')"
   ]
  },
  {
   "cell_type": "code",
   "execution_count": null,
   "metadata": {},
   "outputs": [],
   "source": []
  }
 ],
 "metadata": {
  "kernelspec": {
   "display_name": "Python 3",
   "language": "python",
   "name": "python3"
  },
  "language_info": {
   "codemirror_mode": {
    "name": "ipython",
    "version": 3
   },
   "file_extension": ".py",
   "mimetype": "text/x-python",
   "name": "python",
   "nbconvert_exporter": "python",
   "pygments_lexer": "ipython3",
   "version": "3.7.6"
  }
 },
 "nbformat": 4,
 "nbformat_minor": 4
}
